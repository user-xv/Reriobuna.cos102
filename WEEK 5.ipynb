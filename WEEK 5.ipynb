{
 "cells": [
  {
   "cell_type": "markdown",
   "id": "0255136d-ef17-419f-aad6-7b3c87ce6b81",
   "metadata": {},
   "source": [
    "### Python Function"
   ]
  },
  {
   "cell_type": "code",
   "execution_count": 1,
   "id": "8f5f8d15-b300-4026-b98f-5fd22bfb12bd",
   "metadata": {},
   "outputs": [
    {
     "name": "stdout",
     "output_type": "stream",
     "text": [
      "I'm first call to user defined function\n",
      "I'm second call to the same function\n"
     ]
    }
   ],
   "source": [
    "#practice 1\n",
    "def printme(str):\n",
    "    #this is a print function\n",
    "    print(str);\n",
    "    return;\n",
    "printme(\"I'm first call to user defined function\")\n",
    "printme(\"I'm second call to the same function\")"
   ]
  },
  {
   "cell_type": "code",
   "execution_count": 2,
   "id": "56c06dbb-08ab-4753-bbd1-8d9df6b213aa",
   "metadata": {},
   "outputs": [
    {
     "name": "stdout",
     "output_type": "stream",
     "text": [
      "Values inside the function:  [10, 20, 30, [1, 2, 3, 4]]\n",
      "Values outside the function:  [10, 20, 30, [1, 2, 3, 4]]\n"
     ]
    }
   ],
   "source": [
    "#practice 2\n",
    "def changeme( mylist ):\n",
    "    mylist.append([1,2,3,4])\n",
    "    print(\"Values inside the function: \", mylist)\n",
    "    return\n",
    "mylist = [10,20,30]\n",
    "changeme( mylist )\n",
    "print(\"Values outside the function: \", mylist)"
   ]
  },
  {
   "cell_type": "code",
   "execution_count": 3,
   "id": "df55e9ba-be95-4d3d-ab08-76bd432f8f47",
   "metadata": {},
   "outputs": [
    {
     "name": "stdout",
     "output_type": "stream",
     "text": [
      "Values inside the function:  [1, 2, 3, 4]\n",
      "Values outside the function:  [10, 20, 30]\n"
     ]
    }
   ],
   "source": [
    "#practice 3\n",
    "def changeme( mylist ):\n",
    "    mylist = [1,2,3,4]\n",
    "    print(\"Values inside the function: \", mylist)\n",
    "    return\n",
    "mylist = [10,20,30]\n",
    "changeme( mylist )\n",
    "print(\"Values outside the function: \", mylist)"
   ]
  },
  {
   "cell_type": "code",
   "execution_count": 4,
   "id": "b3d43162-e769-4e1a-a6db-2c627875ca6d",
   "metadata": {},
   "outputs": [
    {
     "ename": "TypeError",
     "evalue": "printme() missing 1 required positional argument: 'str'",
     "output_type": "error",
     "traceback": [
      "\u001b[1;31m---------------------------------------------------------------------------\u001b[0m",
      "\u001b[1;31mTypeError\u001b[0m                                 Traceback (most recent call last)",
      "Cell \u001b[1;32mIn[4], line 5\u001b[0m\n\u001b[0;32m      3\u001b[0m     \u001b[38;5;28mprint\u001b[39m(\u001b[38;5;28mstr\u001b[39m)\n\u001b[0;32m      4\u001b[0m     \u001b[38;5;28;01mreturn\u001b[39;00m\n\u001b[1;32m----> 5\u001b[0m printme( )\n",
      "\u001b[1;31mTypeError\u001b[0m: printme() missing 1 required positional argument: 'str'"
     ]
    }
   ],
   "source": [
    "#practice 4\n",
    "def printme( str ):\n",
    "    print(str)\n",
    "    return\n",
    "printme( )"
   ]
  },
  {
   "cell_type": "code",
   "execution_count": 5,
   "id": "f060b8e7-8fe2-47c3-b41a-e10db76ee1f9",
   "metadata": {},
   "outputs": [
    {
     "name": "stdout",
     "output_type": "stream",
     "text": [
      "My string reggie\n"
     ]
    }
   ],
   "source": [
    "#practice 5\n",
    "def printme( str ):\n",
    "    print(str)\n",
    "    return\n",
    "printme( str = \"My string reggie\")"
   ]
  },
  {
   "cell_type": "code",
   "execution_count": 6,
   "id": "6e25f2e7-b8da-4aab-b3a8-dfa67f56ada9",
   "metadata": {},
   "outputs": [
    {
     "name": "stdout",
     "output_type": "stream",
     "text": [
      "Name:  reggie\n",
      "Age:  60\n"
     ]
    }
   ],
   "source": [
    "#practice 6\n",
    "def printinfo( name, age ):\n",
    "    print(\"Name: \", name)\n",
    "    print(\"Age: \", age)\n",
    "    return\n",
    "printinfo( age=60, name=\"reggie\")"
   ]
  },
  {
   "cell_type": "code",
   "execution_count": 7,
   "id": "aef3c8f6-8a07-47ce-8580-c045ec0485ad",
   "metadata": {},
   "outputs": [
    {
     "name": "stdout",
     "output_type": "stream",
     "text": [
      "Name:  reggie\n",
      "Age:  60\n",
      "Name:  amanda\n",
      "Age:  35\n"
     ]
    }
   ],
   "source": [
    "#practice 7\n",
    "def printinfo( name, age=35 ):\n",
    "    print(\"Name: \", name)\n",
    "    print(\"Age: \", age)\n",
    "    return\n",
    "printinfo( age=60, name=\"reggie\")\n",
    "printinfo( name=\"amanda\")"
   ]
  },
  {
   "cell_type": "code",
   "execution_count": 11,
   "id": "b2a9c892-df4e-439a-b325-785f487f95c4",
   "metadata": {},
   "outputs": [
    {
     "name": "stdout",
     "output_type": "stream",
     "text": [
      "Output is:\n",
      "10\n",
      "Output is:\n",
      "70\n",
      "100\n",
      "50\n",
      "80\n"
     ]
    }
   ],
   "source": [
    "#practice 8\n",
    "def printinfo(arg1, *vartuple):\n",
    "    print(\"Output is:\")\n",
    "    print(arg1)\n",
    "    for var in vartuple:\n",
    "        print(var)\n",
    "    return;\n",
    "printinfo(10)\n",
    "printinfo(70,100,50,80)"
   ]
  },
  {
   "cell_type": "code",
   "execution_count": 12,
   "id": "3e972a13-bda3-4fef-b7ee-65bc206a76bc",
   "metadata": {},
   "outputs": [
    {
     "name": "stdout",
     "output_type": "stream",
     "text": [
      "Inside the function local total :  30\n",
      "Outside the function global total :  50\n"
     ]
    }
   ],
   "source": [
    "#practice 9\n",
    "total = 50\n",
    "def sum( arg1, arg2):\n",
    "    total = arg1 + arg2\n",
    "    print(\"Inside the function local total : \", total)\n",
    "    return total;\n",
    "sum(10,20)\n",
    "print(\"Outside the function global total : \", total)"
   ]
  },
  {
   "cell_type": "code",
   "execution_count": 13,
   "id": "7451e312-3672-47ae-8523-16b6e037f4d5",
   "metadata": {},
   "outputs": [
    {
     "name": "stdout",
     "output_type": "stream",
     "text": [
      "Lawal Edward Tolu Tina\n",
      "Mary\n"
     ]
    }
   ],
   "source": [
    "#practice 10\n",
    "def swap(x, y):\n",
    "    global a\n",
    "    a = \"Lawal\"\n",
    "    x,y = y,x\n",
    "    b=\"Chris\"\n",
    "    b=\"Edward\"\n",
    "    c=\"Lola\"\n",
    "    print(a,b,x,y)\n",
    "    a=\"Mary\"\n",
    "swap(\"Tina\", \"Tolu\")\n",
    "print(a)"
   ]
  },
  {
   "cell_type": "code",
   "execution_count": null,
   "id": "815b61df-97fd-4982-b0f8-06d21010d2c4",
   "metadata": {},
   "outputs": [],
   "source": []
  }
 ],
 "metadata": {
  "kernelspec": {
   "display_name": "Python 3 (ipykernel)",
   "language": "python",
   "name": "python3"
  },
  "language_info": {
   "codemirror_mode": {
    "name": "ipython",
    "version": 3
   },
   "file_extension": ".py",
   "mimetype": "text/x-python",
   "name": "python",
   "nbconvert_exporter": "python",
   "pygments_lexer": "ipython3",
   "version": "3.11.7"
  }
 },
 "nbformat": 4,
 "nbformat_minor": 5
}
