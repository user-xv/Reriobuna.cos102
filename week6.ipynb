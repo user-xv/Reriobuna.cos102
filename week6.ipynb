{
 "cells": [
  {
   "cell_type": "code",
   "execution_count": 2,
   "id": "a51606b0-ae81-4bea-bae4-70f508d262b0",
   "metadata": {},
   "outputs": [
    {
     "name": "stdout",
     "output_type": "stream",
     "text": [
      "cadbury_market.csv has been created successfully.\n"
     ]
    }
   ],
   "source": [
    "import pandas as pd\n",
    "\n",
    "# Define product data\n",
    "data = [\n",
    "    # Export Products\n",
    "    {\"Category\": \"Export\", \"Segment\": \"Intermediate Cocoa Products\", \"Product\": \"Cocoa Butter\"},\n",
    "    {\"Category\": \"Export\", \"Segment\": \"Intermediate Cocoa Products\", \"Product\": \"Cocoa Cake\"},\n",
    "    {\"Category\": \"Export\", \"Segment\": \"Intermediate Cocoa Products\", \"Product\": \"Cocoa Liquor\"},\n",
    "    # Local Cocoa Powder\n",
    "    {\"Category\": \"Local Market\", \"Segment\": \"Intermediate Cocoa Products\", \"Product\": \"Cocoa Powder\"},\n",
    "\n",
    "    # Refreshment Beverages\n",
    "    {\"Category\": \"Segment\", \"Segment\": \"Refreshment Beverages\", \"Product\": \"CADBURY BOURNVITA\"},\n",
    "    {\"Category\": \"Segment\", \"Segment\": \"Refreshment Beverages\", \"Product\": \"CADBURY 3-in-1 HOT CHOCOLATE\"},\n",
    "\n",
    "    # Confectionery\n",
    "    {\"Category\": \"Segment\", \"Segment\": \"Confectionery\", \"Product\": \"TOMTOM CLASSIC\"},\n",
    "    {\"Category\": \"Segment\", \"Segment\": \"Confectionery\", \"Product\": \"TOMTOM STRAWBERRY\"},\n",
    "    {\"Category\": \"Segment\", \"Segment\": \"Confectionery\", \"Product\": \"BUTTERMINT\"},\n",
    "\n",
    "    # Intermediate Cocoa Products again listed by brand\n",
    "    {\"Category\": \"Segment\", \"Segment\": \"Intermediate Cocoa Products\", \"Product\": \"COCOA POWDER\"},\n",
    "    {\"Category\": \"Segment\", \"Segment\": \"Intermediate Cocoa Products\", \"Product\": \"COCOA BUTTER\"},\n",
    "]\n",
    "\n",
    "# Create DataFrame\n",
    "df = pd.DataFrame(data)\n",
    "\n",
    "# Save to CSV\n",
    "df.to_csv(\"cadbury_market.csv\", index=False)\n",
    "\n",
    "print(\"cadbury_market.csv has been created successfully.\")"
   ]
  },
  {
   "cell_type": "code",
   "execution_count": null,
   "id": "fb530097-f6c8-4077-bc17-b9edbc3a5a08",
   "metadata": {},
   "outputs": [],
   "source": []
  }
 ],
 "metadata": {
  "kernelspec": {
   "display_name": "Python [conda env:base] *",
   "language": "python",
   "name": "conda-base-py"
  },
  "language_info": {
   "codemirror_mode": {
    "name": "ipython",
    "version": 3
   },
   "file_extension": ".py",
   "mimetype": "text/x-python",
   "name": "python",
   "nbconvert_exporter": "python",
   "pygments_lexer": "ipython3",
   "version": "3.12.7"
  }
 },
 "nbformat": 4,
 "nbformat_minor": 5
}
