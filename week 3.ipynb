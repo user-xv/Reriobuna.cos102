{
 "cells": [
  {
   "cell_type": "markdown",
   "id": "ae57d729-8c42-4d5a-b655-76f7596a2ca5",
   "metadata": {},
   "source": [
    "### WEEK 3\n",
    "\n"
   ]
  },
  {
   "cell_type": "markdown",
   "id": "fed0b8fa-0280-4d73-b13d-05662e0bd8f2",
   "metadata": {},
   "source": [
    "### Practices"
   ]
  },
  {
   "cell_type": "code",
   "execution_count": 1,
   "id": "9a3e2ba1-fc6e-4a8c-a65d-55a9ac2339dc",
   "metadata": {},
   "outputs": [
    {
     "name": "stdin",
     "output_type": "stream",
     "text": [
      "Enter your state of origin:  delta\n"
     ]
    },
    {
     "name": "stdout",
     "output_type": "stream",
     "text": [
      "Your state of origin is:  delta\n",
      "The first character is:  d\n",
      "The third to fifthe characters:  lta\n",
      "The third to last characters:  lta\n",
      "The state of origin 2 times:  deltadelta\n"
     ]
    }
   ],
   "source": [
    "str = input(\"Enter your state of origin: \")\n",
    "\n",
    "print(\"Your state of origin is: \", str)\n",
    "print(\"The first character is: \", str[0])\n",
    "print(\"The third to fifthe characters: \", str[2:5])\n",
    "print(\"The third to last characters: \", str[2:])\n",
    "print(\"The state of origin 2 times: \", str * 2)"
   ]
  },
  {
   "cell_type": "code",
   "execution_count": 2,
   "id": "91ac2b89-cd10-4f04-b57a-568307ceeafc",
   "metadata": {},
   "outputs": [
    {
     "name": "stdin",
     "output_type": "stream",
     "text": [
      "Enter mass in Kilograms:  9\n"
     ]
    },
    {
     "name": "stdout",
     "output_type": "stream",
     "text": [
      "The energy equivalent to 9.0 kg of mass is 8.098879311966313e+19 joules.\n"
     ]
    }
   ],
   "source": [
    "m = float((input(\"Enter mass in Kilograms: \")))\n",
    "\n",
    "c = 2999792458\n",
    "\n",
    "energy = m * c ** 2\n",
    "\n",
    "print(f\"The energy equivalent to {m} kg of mass is {energy} joules.\")"
   ]
  },
  {
   "cell_type": "code",
   "execution_count": 3,
   "id": "f4b62613-f80f-401a-897e-44437962ec11",
   "metadata": {},
   "outputs": [
    {
     "name": "stdout",
     "output_type": "stream",
     "text": [
      "['Anaconda', 788, 2.23, 'Jupyter', 70.2]\n",
      "Anaconda\n",
      "[788, 2.23]\n",
      "[2.23, 'Jupyter', 70.2]\n",
      "[321, 'Python', 321, 'Python']\n",
      "['Anaconda', 788, 2.23, 'Jupyter', 70.2, 321, 'Python']\n"
     ]
    }
   ],
   "source": [
    "list = ['Anaconda', 788, 2.23, 'Jupyter', 70.2]\n",
    "shortlist = [321, 'Python']\n",
    "\n",
    "print(list)\n",
    "print(list[0])\n",
    "print(list[1:3])\n",
    "print(list[2:])\n",
    "print(shortlist * 2)\n",
    "print(list + shortlist)"
   ]
  },
  {
   "cell_type": "code",
   "execution_count": 4,
   "id": "4babac3c-fc3d-4dcc-a007-80d284ef24dd",
   "metadata": {},
   "outputs": [
    {
     "name": "stdout",
     "output_type": "stream",
     "text": [
      "('Ekiti', 750, 'Oshogbo', 250, 'Akure', 500)\n",
      "500\n",
      "('Oshogbo', 250)\n",
      "(250, 'Akure', 500)\n",
      "('Abeokuta', 300, 'Ogbomoso', 'Abeokuta', 300, 'Ogbomoso', 'Abeokuta', 300, 'Ogbomoso')\n",
      "('Ekiti', 750, 'Oshogbo', 250, 'Akure', 500, 'Abeokuta', 300, 'Ogbomoso')\n"
     ]
    }
   ],
   "source": [
    "tuple = (\"Ekiti\", 750, 'Oshogbo', 250, \"Akure\", 500)\n",
    "s_tuple = (\"Abeokuta\", 300, 'Ogbomoso')\n",
    "\n",
    "print(tuple)\n",
    "print(tuple[-1])\n",
    "print (tuple[2:4])\n",
    "print(tuple[3:])\n",
    "print(s_tuple * 3)\n",
    "print(tuple + s_tuple)"
   ]
  },
  {
   "cell_type": "code",
   "execution_count": 5,
   "id": "1f697104-6ac8-4100-ae23-333c36178704",
   "metadata": {},
   "outputs": [
    {
     "name": "stdout",
     "output_type": "stream",
     "text": [
      "False\n",
      "False\n",
      "False\n",
      "False\n",
      "True\n"
     ]
    }
   ],
   "source": [
    "game_1 = 2\n",
    "game_2 = 4\n",
    "print(bool(game_1 == game_2))\n",
    "print(game_1 == game_2)\n",
    "val = None\n",
    "print(bool(val))\n",
    "num = ()\n",
    "print(bool(num))\n",
    "age =True\n",
    "print(bool(age))"
   ]
  },
  {
   "cell_type": "code",
   "execution_count": 6,
   "id": "3f8e2bbc-fa7b-48a8-acff-fb97d01f22f6",
   "metadata": {},
   "outputs": [
    {
     "name": "stdout",
     "output_type": "stream",
     "text": [
      "Grade = 70\n",
      "GPA = 4\n",
      "CGPA = 4\n"
     ]
    }
   ],
   "source": [
    "grade = int(70)\n",
    "gpa = int(4.9)\n",
    "cgpa = int(\"4\")\n",
    "\n",
    "print(f\"Grade = {grade}\")\n",
    "print(f\"GPA = {gpa}\")\n",
    "print(f\"CGPA = {cgpa}\")"
   ]
  },
  {
   "cell_type": "code",
   "execution_count": 8,
   "id": "459f3095-c5b1-4035-9d08-7d9860539c58",
   "metadata": {},
   "outputs": [
    {
     "name": "stdout",
     "output_type": "stream",
     "text": [
      "Grade = 97.0\n",
      "GPA = 5.0\n",
      "CGPA = 4.7\n"
     ]
    }
   ],
   "source": [
    "grade = float(97)\n",
    "gpa = float(5)\n",
    "cgpa = float(\"4.7\")\n",
    "\n",
    "print(f\"Grade = {grade}\")\n",
    "print(f\"GPA = {gpa}\")\n",
    "print(f\"CGPA = {cgpa}\")"
   ]
  },
  {
   "cell_type": "code",
   "execution_count": null,
   "id": "e430d9af-9eb0-415a-9e77-f2dd7b116fcc",
   "metadata": {},
   "outputs": [],
   "source": []
  }
 ],
 "metadata": {
  "kernelspec": {
   "display_name": "Python 3 (ipykernel)",
   "language": "python",
   "name": "python3"
  },
  "language_info": {
   "codemirror_mode": {
    "name": "ipython",
    "version": 3
   },
   "file_extension": ".py",
   "mimetype": "text/x-python",
   "name": "python",
   "nbconvert_exporter": "python",
   "pygments_lexer": "ipython3",
   "version": "3.11.7"
  }
 },
 "nbformat": 4,
 "nbformat_minor": 5
}
