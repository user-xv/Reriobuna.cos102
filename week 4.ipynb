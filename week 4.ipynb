{
 "cells": [
  {
   "cell_type": "markdown",
   "id": "ae57d729-8c42-4d5a-b655-76f7596a2ca5",
   "metadata": {},
   "source": [
    "### WEEK 4\n"
   ]
  },
  {
   "cell_type": "markdown",
   "id": "fed0b8fa-0280-4d73-b13d-05662e0bd8f2",
   "metadata": {},
   "source": [
    "### Exercise I - Sequence"
   ]
  },
  {
   "cell_type": "code",
   "execution_count": 1,
   "id": "cd5baf7a-7b90-49fa-a80b-4a94bc897d47",
   "metadata": {},
   "outputs": [
    {
     "name": "stdin",
     "output_type": "stream",
     "text": [
      "Enter name of City 1:  Lagos\n",
      "Enter name of City 2:  Abuja\n"
     ]
    },
    {
     "name": "stdout",
     "output_type": "stream",
     "text": [
      "The name of City 1 after swapping is Abuja\n",
      "The name of City 2 after swapping is Lagos\n"
     ]
    }
   ],
   "source": [
    "# python progrma to swap two cities\n",
    "\n",
    "# to take inputs from the user\n",
    "city_1 = input(\"Enter name of City 1: \")\n",
    "city_2 = input(\"Enter name of City 2: \")\n",
    "\n",
    "temp = city_1\n",
    "city_1 = city_2\n",
    "city_2 = temp\n",
    "\n",
    "print(f\"The name of City 1 after swapping is {city_1}\")\n",
    "print(f\"The name of City 2 after swapping is {city_2}\")"
   ]
  },
  {
   "cell_type": "markdown",
   "id": "bb524bb3-4aaf-4138-b1da-0047067a635e",
   "metadata": {},
   "source": [
    "### Exercise II - Selection"
   ]
  },
  {
   "cell_type": "code",
   "execution_count": 2,
   "id": "67214a9a-cf0f-4c34-8083-c41a127f67eb",
   "metadata": {},
   "outputs": [
    {
     "name": "stdin",
     "output_type": "stream",
     "text": [
      "Enter a number:  8\n"
     ]
    },
    {
     "name": "stdout",
     "output_type": "stream",
     "text": [
      "Positive number\n"
     ]
    }
   ],
   "source": [
    "num = float(input(\"Enter a number: \"))\n",
    "if num > 0:\n",
    "    print(\"Positive number\")\n",
    "elif num == 0:\n",
    "    print(\"zero\")\n",
    "else:\n",
    "    print(\"Negative number\")"
   ]
  },
  {
   "cell_type": "markdown",
   "id": "7717a889-99c4-4455-998a-b06c67b7b429",
   "metadata": {},
   "source": [
    "### Exercise iii - Repetition"
   ]
  },
  {
   "cell_type": "code",
   "execution_count": 6,
   "id": "055e12d4-7f34-4403-9125-9880edc949a8",
   "metadata": {},
   "outputs": [
    {
     "name": "stdout",
     "output_type": "stream",
     "text": [
      "welcome to coupe the escrive 2023 football picks\n",
      "Madiba Chubby Obiora-Okafo\n",
      "Blue Jays Oladimeji Abaniwonda/Jeff Awagu\n",
      "Cirok Timilehin Pearse\n",
      "TSG Walkers Ayomide Ojikutu\n",
      "Madiba Chubby Obiora-Okafo\n",
      "Blue Jays Christopher Uweh\n",
      "Cirok Alexander\n",
      "TSG Walkers Ikechukwu\n"
     ]
    }
   ],
   "source": [
    "# COUPE DE ESCRIVA \n",
    "print(\"welcome to coupe the escrive 2023 football picks\")\n",
    "\n",
    "captain = {'Madiba' :'Chubby Obiora-Okafo','Blue Jays' :'Christopher Uweh',\n",
    "          'Cirok' :'Alexander','TSG Walkers' :'Ikechukwu'}\n",
    "\n",
    "goalkeepers = {'Madiba' :'Chubby Obiora-Okafo','Blue Jays' :'Oladimeji Abaniwonda/Jeff Awagu',\n",
    "          'Cirok' :'Timilehin Pearse','TSG Walkers' :'Ayomide Ojikutu'}\n",
    "for i in goalkeepers:\n",
    "    print(i, goalkeepers[i])\n",
    "for i in captain:\n",
    "    print(i, captain[i])"
   ]
  },
  {
   "cell_type": "markdown",
   "id": "8b933fc1-9846-47bf-b6df-f2edda23dfc9",
   "metadata": {},
   "source": [
    "### Project 1"
   ]
  },
  {
   "cell_type": "code",
   "execution_count": 17,
   "id": "eeeede8b-f4d2-4e52-9f40-c4a7a7db9c7e",
   "metadata": {},
   "outputs": [
    {
     "data": {
      "text/html": [
       "<div>\n",
       "<style scoped>\n",
       "    .dataframe tbody tr th:only-of-type {\n",
       "        vertical-align: middle;\n",
       "    }\n",
       "\n",
       "    .dataframe tbody tr th {\n",
       "        vertical-align: top;\n",
       "    }\n",
       "\n",
       "    .dataframe thead th {\n",
       "        text-align: right;\n",
       "    }\n",
       "</style>\n",
       "<table border=\"1\" class=\"dataframe\">\n",
       "  <thead>\n",
       "    <tr style=\"text-align: right;\">\n",
       "      <th></th>\n",
       "      <th>Names</th>\n",
       "      <th>Age</th>\n",
       "      <th>Height</th>\n",
       "      <th>Scores</th>\n",
       "    </tr>\n",
       "  </thead>\n",
       "  <tbody>\n",
       "    <tr>\n",
       "      <th>0</th>\n",
       "      <td>Evelyn</td>\n",
       "      <td>17</td>\n",
       "      <td>5.5</td>\n",
       "      <td>80</td>\n",
       "    </tr>\n",
       "    <tr>\n",
       "      <th>1</th>\n",
       "      <td>Jessica</td>\n",
       "      <td>16</td>\n",
       "      <td>6.0</td>\n",
       "      <td>85</td>\n",
       "    </tr>\n",
       "    <tr>\n",
       "      <th>2</th>\n",
       "      <td>Somto</td>\n",
       "      <td>17</td>\n",
       "      <td>5.4</td>\n",
       "      <td>70</td>\n",
       "    </tr>\n",
       "    <tr>\n",
       "      <th>3</th>\n",
       "      <td>Edith</td>\n",
       "      <td>18</td>\n",
       "      <td>5.9</td>\n",
       "      <td>60</td>\n",
       "    </tr>\n",
       "    <tr>\n",
       "      <th>4</th>\n",
       "      <td>Liza</td>\n",
       "      <td>16</td>\n",
       "      <td>5.6</td>\n",
       "      <td>66</td>\n",
       "    </tr>\n",
       "    <tr>\n",
       "      <th>5</th>\n",
       "      <td>Madonna</td>\n",
       "      <td>18</td>\n",
       "      <td>5.5</td>\n",
       "      <td>76</td>\n",
       "    </tr>\n",
       "    <tr>\n",
       "      <th>6</th>\n",
       "      <td>Waje</td>\n",
       "      <td>17</td>\n",
       "      <td>6.1</td>\n",
       "      <td>87</td>\n",
       "    </tr>\n",
       "    <tr>\n",
       "      <th>7</th>\n",
       "      <td>Tola</td>\n",
       "      <td>20</td>\n",
       "      <td>6.0</td>\n",
       "      <td>95</td>\n",
       "    </tr>\n",
       "    <tr>\n",
       "      <th>8</th>\n",
       "      <td>Aisha</td>\n",
       "      <td>19</td>\n",
       "      <td>5.7</td>\n",
       "      <td>50</td>\n",
       "    </tr>\n",
       "    <tr>\n",
       "      <th>9</th>\n",
       "      <td>Latifa</td>\n",
       "      <td>17</td>\n",
       "      <td>5.5</td>\n",
       "      <td>49</td>\n",
       "    </tr>\n",
       "    <tr>\n",
       "      <th>10</th>\n",
       "      <td>Chinedu</td>\n",
       "      <td>19</td>\n",
       "      <td>5.7</td>\n",
       "      <td>74</td>\n",
       "    </tr>\n",
       "    <tr>\n",
       "      <th>11</th>\n",
       "      <td>Liam</td>\n",
       "      <td>16</td>\n",
       "      <td>5.9</td>\n",
       "      <td>87</td>\n",
       "    </tr>\n",
       "    <tr>\n",
       "      <th>12</th>\n",
       "      <td>Wale</td>\n",
       "      <td>18</td>\n",
       "      <td>5.8</td>\n",
       "      <td>75</td>\n",
       "    </tr>\n",
       "    <tr>\n",
       "      <th>13</th>\n",
       "      <td>Gbenga</td>\n",
       "      <td>17</td>\n",
       "      <td>6.1</td>\n",
       "      <td>68</td>\n",
       "    </tr>\n",
       "    <tr>\n",
       "      <th>14</th>\n",
       "      <td>Abiola</td>\n",
       "      <td>20</td>\n",
       "      <td>5.9</td>\n",
       "      <td>66</td>\n",
       "    </tr>\n",
       "    <tr>\n",
       "      <th>15</th>\n",
       "      <td>Kola</td>\n",
       "      <td>19</td>\n",
       "      <td>5.5</td>\n",
       "      <td>78</td>\n",
       "    </tr>\n",
       "    <tr>\n",
       "      <th>16</th>\n",
       "      <td>Kunle</td>\n",
       "      <td>16</td>\n",
       "      <td>6.4</td>\n",
       "      <td>87</td>\n",
       "    </tr>\n",
       "    <tr>\n",
       "      <th>17</th>\n",
       "      <td>George</td>\n",
       "      <td>18</td>\n",
       "      <td>5.4</td>\n",
       "      <td>98</td>\n",
       "    </tr>\n",
       "    <tr>\n",
       "      <th>18</th>\n",
       "      <td>Thomas</td>\n",
       "      <td>17</td>\n",
       "      <td>5.8</td>\n",
       "      <td>54</td>\n",
       "    </tr>\n",
       "    <tr>\n",
       "      <th>19</th>\n",
       "      <td>Wesley</td>\n",
       "      <td>19</td>\n",
       "      <td>5.7</td>\n",
       "      <td>60</td>\n",
       "    </tr>\n",
       "  </tbody>\n",
       "</table>\n",
       "</div>"
      ],
      "text/plain": [
       "      Names  Age  Height  Scores\n",
       "0    Evelyn   17     5.5      80\n",
       "1   Jessica   16     6.0      85\n",
       "2     Somto   17     5.4      70\n",
       "3     Edith   18     5.9      60\n",
       "4      Liza   16     5.6      66\n",
       "5   Madonna   18     5.5      76\n",
       "6      Waje   17     6.1      87\n",
       "7      Tola   20     6.0      95\n",
       "8     Aisha   19     5.7      50\n",
       "9    Latifa   17     5.5      49\n",
       "10  Chinedu   19     5.7      74\n",
       "11     Liam   16     5.9      87\n",
       "12     Wale   18     5.8      75\n",
       "13   Gbenga   17     6.1      68\n",
       "14   Abiola   20     5.9      66\n",
       "15     Kola   19     5.5      78\n",
       "16    Kunle   16     6.4      87\n",
       "17   George   18     5.4      98\n",
       "18   Thomas   17     5.8      54\n",
       "19   Wesley   19     5.7      60"
      ]
     },
     "execution_count": 17,
     "metadata": {},
     "output_type": "execute_result"
    }
   ],
   "source": [
    "import pandas as pd\n",
    "student = {'Names':['Evelyn', 'Jessica','Somto', 'Edith','Liza','Madonna','Waje','Tola','Aisha','Latifa',\n",
    "                   'Chinedu', 'Liam','Wale','Gbenga','Abiola','Kola','Kunle','George','Thomas','Wesley'],\n",
    "           'Age': [17,16,17,18,16,18,17,20,19,17,19,16,18,17,20,19,16,18,17,19],\n",
    "           'Height':[5.5,6.0,5.4,5.9,5.6,5.5,6.1,6.0,5.7,5.5,5.7,5.9,5.8,6.1,5.9,5.5,6.4,5.4,5.8,5.7],\n",
    "           'Scores':[80,85,70,60,66,76,87,95,50,49,74,87,75,68,66,78,87,98,54,60]}\n",
    "data = pd.DataFrame(student)\n",
    "data\n"
   ]
  },
  {
   "cell_type": "markdown",
   "id": "70adebd2-73c1-4691-9ad3-4d690c8d4540",
   "metadata": {},
   "source": [
    "### Project 2"
   ]
  },
  {
   "cell_type": "code",
   "execution_count": 19,
   "id": "5cdd837a-0bd4-4a93-b31e-a506c8c910c8",
   "metadata": {},
   "outputs": [
    {
     "name": "stdin",
     "output_type": "stream",
     "text": [
      "Kindly enter your years of experience:  25\n",
      "Kindly enter your age:  40\n"
     ]
    },
    {
     "name": "stdout",
     "output_type": "stream",
     "text": [
      "Your Annual Tax Revenue is N1,500,000.00\n"
     ]
    }
   ],
   "source": [
    "yoe = int(input(\"Kindly enter your years of experience: \"))\n",
    "age = int(input(\"Kindly enter your age: \"))\n",
    "\n",
    "if (yoe > 25) and (age >= 55):\n",
    "    print(\"Your Annual Tax Revenue is N5,600,000.00\")\n",
    "elif (yoe > 20) and (age >= 45):\n",
    "    print(\"Your Annual Tax Revenue is N4,480,000.00\")\n",
    "elif (yoe > 10) and (age >= 35):\n",
    "    print(\"Your Annual Tax Revenue is N1,500,000.00\")\n",
    "else:\n",
    "    print(\"Your Annual Tax Revenue is N550,000.00\")"
   ]
  },
  {
   "cell_type": "code",
   "execution_count": null,
   "id": "9a3e2ba1-fc6e-4a8c-a65d-55a9ac2339dc",
   "metadata": {},
   "outputs": [],
   "source": []
  }
 ],
 "metadata": {
  "kernelspec": {
   "display_name": "Python 3 (ipykernel)",
   "language": "python",
   "name": "python3"
  },
  "language_info": {
   "codemirror_mode": {
    "name": "ipython",
    "version": 3
   },
   "file_extension": ".py",
   "mimetype": "text/x-python",
   "name": "python",
   "nbconvert_exporter": "python",
   "pygments_lexer": "ipython3",
   "version": "3.11.7"
  }
 },
 "nbformat": 4,
 "nbformat_minor": 5
}
