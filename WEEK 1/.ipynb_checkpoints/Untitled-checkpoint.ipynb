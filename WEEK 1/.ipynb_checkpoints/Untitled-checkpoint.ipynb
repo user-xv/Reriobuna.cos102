{
 "cells": [
  {
   "cell_type": "code",
   "execution_count": 1,
   "id": "f9734869-53bd-4146-a37f-1681c327a086",
   "metadata": {},
   "outputs": [
    {
     "name": "stdout",
     "output_type": "stream",
     "text": [
      "hello world\n"
     ]
    }
   ],
   "source": [
    "print(\"hello world\")"
   ]
  },
  {
   "cell_type": "code",
   "execution_count": null,
   "id": "b6deadf6-415f-4c78-a25f-efa2f20f5a19",
   "metadata": {},
   "outputs": [
    {
     "name": "stdout",
     "output_type": "stream",
     "text": [
      "SIMPLE INTEREST\n"
     ]
    }
   ],
   "source": [
    "print (\"SIMPLE INTEREST\")\n",
    "p = int(input('Please input the value for principal'))\n",
    "r = int(input('Please input your value for rate'))\n",
    "t = int(input('Please input your value for time'))\n",
    "A  = p * (1 + ((r/100) * t))\n",
    "print (A)"
   ]
  },
  {
   "cell_type": "code",
   "execution_count": null,
   "id": "b40610b9-d4a9-4fe9-bcfd-dedecb14e161",
   "metadata": {},
   "outputs": [],
   "source": [
    "print (\"COMPOUND INTEREST\")\n",
    "p = int(input('Please input the value for principal'))\n",
    "r = int(input('Please input your value for rate'))\n",
    "t = int(input('Please input your value for time'))\n",
    "A  = p * (1 + ((r/t) ** t))\n",
    "print (A)"
   ]
  },
  {
   "cell_type": "code",
   "execution_count": null,
   "id": "b375fbd0-77de-4598-9cf8-58953b48f0b1",
   "metadata": {},
   "outputs": [],
   "source": [
    "print (\"ANNUNUITY PLAN\")\n",
    "p = int(input('Please input the value for principal'))\n",
    "r = int(input('Please input your value for rate'))\n",
    "t = int(input('Please input your value for time'))\n",
    "A  = p * t * (((1 + (r/t)) ** t) - 1) / (r /t)\n",
    "print (A)"
   ]
  },
  {
   "cell_type": "code",
   "execution_count": null,
   "id": "9a87298a-5092-4dcd-a069-2dee90b988d0",
   "metadata": {},
   "outputs": [],
   "source": []
  }
 ],
 "metadata": {
  "kernelspec": {
   "display_name": "Python 3 (ipykernel)",
   "language": "python",
   "name": "python3"
  },
  "language_info": {
   "codemirror_mode": {
    "name": "ipython",
    "version": 3
   },
   "file_extension": ".py",
   "mimetype": "text/x-python",
   "name": "python",
   "nbconvert_exporter": "python",
   "pygments_lexer": "ipython3",
   "version": "3.12.7"
  }
 },
 "nbformat": 4,
 "nbformat_minor": 5
}
